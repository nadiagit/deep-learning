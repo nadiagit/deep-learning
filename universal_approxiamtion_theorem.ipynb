{
  "nbformat": 4,
  "nbformat_minor": 0,
  "metadata": {
    "colab": {
      "name": "universal_approxiamtion_theorem.ipynb",
      "provenance": [],
      "collapsed_sections": []
    },
    "kernelspec": {
      "name": "python3",
      "display_name": "Python 3"
    }
  },
  "cells": [
    {
      "cell_type": "markdown",
      "metadata": {
        "id": "dgE07mVx5E4u"
      },
      "source": [
        "\n",
        "# Neural networks can get an approximation that is as good as we want of any function. \n",
        "## Universality theorem\n",
        "I recently started to read the book Deep Learning, by Ian Goodfellow, Yoshua Bengio and Aaron Courville (https://www.deeplearningbook.org). I read something that really got my attention: neural networks can compute any function. So, no matter the function, there is a guaranteed to be a neural network so that for every possible input, x, the value f(x) (or some close approximations) is output from the network.\n",
        "\n",
        "Researching a little further, I saw that one of the caveats of this is the class of the functions which can be approximated. And are the continuous ones. However, it seems a continuous approximations of a discontinuous function is often good enough."
      ]
    },
    {
      "cell_type": "markdown",
      "metadata": {
        "id": "HppfVWId5VmU"
      },
      "source": [
        "I came across a brilliant explanation about the theorem, by Michael Nielsen here: http://neuralnetworksanddeeplearning.com/chap4.html."
      ]
    },
    {
      "cell_type": "markdown",
      "metadata": {
        "id": "dpEvzjdfeDY4"
      },
      "source": [
        "Awesome opportunity to try for the first time pytorch, with the following thought: \n",
        "How will the universal approximation theory apply to a function of own choice?"
      ]
    },
    {
      "cell_type": "markdown",
      "metadata": {
        "id": "to5XU2FO5ZNg"
      },
      "source": [
        "In the example, we will start with network with one hidden layer of six neurons. If it not enough, we can increase the number of hidden neurons to improve the approximation.\n"
      ]
    },
    {
      "cell_type": "code",
      "metadata": {
        "id": "4ylBP_vqAcLQ"
      },
      "source": [
        "import torch\n",
        "import matplotlib.pyplot as plt\n",
        "import numpy as np"
      ],
      "execution_count": null,
      "outputs": []
    },
    {
      "cell_type": "code",
      "metadata": {
        "id": "U85vKVbIHKRN",
        "outputId": "fc4c677c-aa4f-4412-bceb-8f016f9f7e09",
        "colab": {
          "base_uri": "https://localhost:8080/",
          "height": 265
        }
      },
      "source": [
        "# Generate Data\n",
        "def create_function(x):\n",
        "    return 0.2*(x**3) + 0.4*(x**2) + 0.3*x -4\n",
        "\n",
        "def get_data(start, end, step_size):\n",
        "    x = np.arange(start, end, step_size)\n",
        "    x.shape = (len(x), 1)\n",
        "    y = np.array([create_function(x[i]) for i in range(len(x))])\n",
        "    y.shape = (len(y), 1)\n",
        "    return x,y\n",
        "\n",
        "# Visualize\n",
        "x,y = get_data(-4,4,.1)\n",
        "plt.plot(y)\n",
        "plt.show()"
      ],
      "execution_count": null,
      "outputs": [
        {
          "output_type": "display_data",
          "data": {
            "image/png": "[encoded data removed]",
            "text/plain": [
              "<Figure size 432x288 with 1 Axes>"
            ]
          },
          "metadata": {
            "tags": [],
            "needs_background": "light"
          }
        }
      ]
    },
    {
      "cell_type": "code",
      "metadata": {
        "id": "huKBW-KVJxII"
      },
      "source": [
        "x_torch = torch.from_numpy(x).float()\n",
        "y_torch = torch.from_numpy(y).float()"
      ],
      "execution_count": null,
      "outputs": []
    },
    {
      "cell_type": "code",
      "metadata": {
        "id": "a7buGWcxIeeX",
        "outputId": "0e05248d-d063-4344-cd45-1349b6c58325",
        "colab": {
          "base_uri": "https://localhost:8080/",
          "height": 1000
        }
      },
      "source": [
        "# Inspired by pytorch tutorial\n",
        "# D_in is input dimension;\n",
        "# H is hidden dimension; D_out is output dimension.\n",
        "D_in, H, D_out = 1, 6, 1\n",
        "\n",
        "# Each Linear Module computes output from input using a\n",
        "# linear function, and holds internal Tensors for its weight and bias.\n",
        "model = torch.nn.Sequential(\n",
        "    torch.nn.Linear(D_in, H),\n",
        "    torch.nn.ReLU(),\n",
        "    torch.nn.Linear(H, D_out),\n",
        ")\n",
        "\n",
        "# Use Mean Squared Error (MSE) as our loss function.\n",
        "loss_fn = torch.nn.MSELoss(reduction='sum')\n",
        "\n",
        "learning_rate = 1e-4\n",
        "for t in range(10000):\n",
        "    # Forward pass: compute predicted y by passing x to the model.\n",
        "    y_pred = model(x_torch)\n",
        "\n",
        "    # Compute and print loss. We pass Tensors containing the predicted and true\n",
        "    # values of y, and the loss function returns a Tensor containing the loss.\n",
        "    loss = loss_fn(y_pred, y_torch)\n",
        "    if t % 100 == 99:\n",
        "        print(t, loss.item())\n",
        "\n",
        "    # Zero the gradients before running the backward pass.\n",
        "    model.zero_grad()\n",
        "\n",
        "    # Backward pass: compute gradient of the loss with respect to all the learnable\n",
        "    # parameters of the model. Internally, the parameters of each Module are stored\n",
        "    # in Tensors with requires_grad=True, so this call will compute gradients for\n",
        "    # all learnable parameters in the model.\n",
        "    loss.backward()\n",
        "\n",
        "    # Update the weights using gradient descent. Each parameter is a Tensor, so\n",
        "    # we can access its gradients like we did before.\n",
        "    with torch.no_grad():\n",
        "        for param in model.parameters():\n",
        "            param -= learning_rate * param.grad\n",
        "\n",
        "    "
      ],
      "execution_count": null,
      "outputs": [
        {
          "output_type": "stream",
          "text": [
            "99 305.4406433105469\n",
            "199 165.0032958984375\n",
            "299 115.18085479736328\n",
            "399 89.78775024414062\n",
            "499 75.59608459472656\n",
            "599 66.83597564697266\n",
            "699 60.483131408691406\n",
            "799 55.186012268066406\n",
            "899 50.31221008300781\n",
            "999 45.50109100341797\n",
            "1099 40.42466735839844\n",
            "1199 35.48338317871094\n",
            "1299 30.56759262084961\n",
            "1399 26.206838607788086\n",
            "1499 22.606075286865234\n",
            "1599 19.51850128173828\n",
            "1699 16.991884231567383\n",
            "1799 14.987051010131836\n",
            "1899 13.369357109069824\n",
            "1999 12.07308578491211\n",
            "2099 11.017345428466797\n",
            "2199 10.165821075439453\n",
            "2299 9.300320625305176\n",
            "2399 8.595320701599121\n",
            "2499 8.0493745803833\n",
            "2599 7.622456073760986\n",
            "2699 7.227622985839844\n",
            "2799 6.9176025390625\n",
            "2899 6.673670768737793\n",
            "2999 6.482766151428223\n",
            "3099 6.334165573120117\n",
            "3199 6.156526565551758\n",
            "3299 6.012863636016846\n",
            "3399 5.89858341217041\n",
            "3499 5.807354927062988\n",
            "3599 5.73476505279541\n",
            "3699 5.677084922790527\n",
            "3799 5.631344318389893\n",
            "3899 5.576394081115723\n",
            "3999 5.537309169769287\n",
            "4099 5.460411071777344\n",
            "4199 5.395374774932861\n",
            "4299 5.345731258392334\n",
            "4399 5.190454959869385\n",
            "4499 5.094759464263916\n",
            "4599 5.024753570556641\n",
            "4699 4.97294807434082\n",
            "4799 4.9344611167907715\n",
            "4899 4.905750274658203\n",
            "4999 4.88422155380249\n",
            "5099 4.867993354797363\n",
            "5199 4.85569429397583\n",
            "5299 4.846303462982178\n",
            "5399 4.839098930358887\n",
            "5499 4.833524227142334\n",
            "5599 4.829185962677002\n",
            "5699 4.825787544250488\n",
            "5799 4.823102951049805\n",
            "5899 4.820976734161377\n",
            "5999 4.819278240203857\n",
            "6099 4.817912578582764\n",
            "6199 4.816816806793213\n",
            "6299 4.815929412841797\n",
            "6399 4.815202236175537\n",
            "6499 4.81461238861084\n",
            "6599 4.814126014709473\n",
            "6699 4.81372594833374\n",
            "6799 4.8133955001831055\n",
            "6899 4.813124179840088\n",
            "6999 4.81289529800415\n",
            "7099 4.812705039978027\n",
            "7199 4.812547206878662\n",
            "7299 4.812412738800049\n",
            "7399 4.812303066253662\n",
            "7499 4.812209129333496\n",
            "7599 4.812129974365234\n",
            "7699 4.812066555023193\n",
            "7799 4.812006950378418\n",
            "7899 4.811959266662598\n",
            "7999 4.811917304992676\n",
            "8099 4.811883449554443\n",
            "8199 4.811853885650635\n",
            "8299 4.81182861328125\n",
            "8399 4.81181001663208\n",
            "8499 4.811789035797119\n",
            "8599 4.811771869659424\n",
            "8699 4.811758041381836\n",
            "8799 4.811748504638672\n",
            "8899 4.811738014221191\n",
            "8999 4.811732292175293\n",
            "9099 4.811720371246338\n",
            "9199 4.811716079711914\n",
            "9299 4.811710834503174\n",
            "9399 4.811705112457275\n",
            "9499 4.811700344085693\n",
            "9599 4.8116984367370605\n",
            "9699 4.8116960525512695\n",
            "9799 4.811691761016846\n",
            "9899 4.81168794631958\n",
            "9999 4.811688423156738\n"
          ],
          "name": "stdout"
        }
      ]
    },
    {
      "cell_type": "code",
      "metadata": {
        "id": "pWEtkVDfWzwc",
        "outputId": "b272b4a7-e136-49b5-b154-71cdac834d70",
        "colab": {
          "base_uri": "https://localhost:8080/",
          "height": 68
        }
      },
      "source": [
        "model[2].weight"
      ],
      "execution_count": null,
      "outputs": [
        {
          "output_type": "execute_result",
          "data": {
            "text/plain": [
              "Parameter containing:\n",
              "tensor([[-1.0855, -3.1114,  2.1470,  3.8786, -0.9447,  0.3719]],\n",
              "       requires_grad=True)"
            ]
          },
          "metadata": {
            "tags": []
          },
          "execution_count": 6
        }
      ]
    },
    {
      "cell_type": "code",
      "metadata": {
        "id": "2TkL4sKDJUIX",
        "outputId": "a799711f-6043-4beb-e948-9741143782d0",
        "colab": {
          "base_uri": "https://localhost:8080/",
          "height": 265
        }
      },
      "source": [
        "plt.plot(y)\n",
        "plt.plot(y_pred.data.numpy())\n",
        "plt.show()"
      ],
      "execution_count": null,
      "outputs": [
        {
          "output_type": "display_data",
          "data": {
            "image/png": "[encoded data removed]",
            "text/plain": [
              "<Figure size 432x288 with 1 Axes>"
            ]
          },
          "metadata": {
            "tags": [],
            "needs_background": "light"
          }
        }
      ]
    }
  ]
}
